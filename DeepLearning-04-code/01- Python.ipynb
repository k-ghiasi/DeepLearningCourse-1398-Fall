{
 "cells": [
  {
   "cell_type": "markdown",
   "metadata": {},
   "source": [
    "## <font color='green'> <div align=\"center\">In the name of God </div></font>"
   ]
  },
  {
   "cell_type": "markdown",
   "metadata": {},
   "source": [
    "### <font color='red'> Author: Sayed Kamaledin Ghiasi-Shrirazi</font> <a href=\"http://profsite.um.ac.ir/~k.ghiasi\">(http://profsite.um.ac.ir/~k.ghiasi)</a> "
   ]
  },
  {
   "cell_type": "markdown",
   "metadata": {},
   "source": [
    "# Getting started with Python"
   ]
  },
  {
   "cell_type": "markdown",
   "metadata": {},
   "source": [
    "## Installing Python, pachages and IDEs"
   ]
  },
  {
   "cell_type": "markdown",
   "metadata": {},
   "source": [
    " - Install anaconda platform for version 3.X of python.\n",
    "<a href=\"https://www.anaconda.com/distribution/\">https://www.anaconda.com/distribution.</a> \n",
    " - To install a package like **numpy** or **matplotlib**, \n",
    "   - open **Anaconda Prompt** with **run as administrator**. \n",
    "   - Then install packages using either \n",
    "       - **conda install numpy** and **conda install matplotlib** or,\n",
    "       - **pip install numpy** and **pip install matplotlib**.\n",
    " - Install <a href=https://www.jetbrains.com/pycharm>pycharm</a>. The free version suffices."
   ]
  },
  {
   "cell_type": "markdown",
   "metadata": {},
   "source": [
    "Install the following packages:\n",
    "    - numpy\n",
    "    - matplotlib\n",
    "    - scipy"
   ]
  },
  {
   "cell_type": "markdown",
   "metadata": {},
   "source": [
    "For the difference between **conda** and **pip** see:\n",
    "\n",
    " - <a href=https://www.anaconda.com/understanding-conda-and-pip>Understanding Conda and Pip</a>"
   ]
  },
  {
   "cell_type": "markdown",
   "metadata": {},
   "source": [
    "## How to run python programs"
   ]
  },
  {
   "cell_type": "markdown",
   "metadata": {},
   "source": [
    "You can write python programs in either of these environments:\n",
    " - **ipython**: it is an interactive environment, best suited for checking syntaxes.\n",
    "     - **ipython** is located at **\"C:\\ProgramData\\Anaconda3\\Scripts\"**.\n",
    " - **Jupyter notebook**: open **anaconda prompt** and run **jupyter notebook**.\n",
    " - **pycharm**: it is the best IDE I am aware of and has excelent running, debugging and autocompleting capabilities.\n",
    " \n",
    "**Note:** Initially, I had difficulties with pycharm. The problems were solved by writing a batch file and executing the command **path=\"\"** just before calling the pycharm executable. \n",
    "\n",
    "```\n",
    "path=\"\"\n",
    "\"C:\\Program Files\\JetBrains\\PyCharm Community Edition 2018.1.4\\bin\\pycharm64.exe\"\n",
    "```"
   ]
  },
  {
   "cell_type": "markdown",
   "metadata": {},
   "source": [
    "## How Learn Basics of python language?"
   ]
  },
  {
   "cell_type": "markdown",
   "metadata": {},
   "source": [
    "There are lots of references on python language. I list a few:\n",
    " - https://docs.python.org/3/tutorial/index.html\n",
    " - Learning Python 5th Edition by Mark Lutz."
   ]
  },
  {
   "cell_type": "markdown",
   "metadata": {},
   "source": [
    "## Numpy reference"
   ]
  },
  {
   "cell_type": "markdown",
   "metadata": {},
   "source": [
    "<a href=\"https://docs.scipy.org/doc/numpy/reference\">https://docs.scipy.org/doc/numpy/reference/</a>"
   ]
  }
 ],
 "metadata": {
  "kernelspec": {
   "display_name": "Python 3",
   "language": "python",
   "name": "python3"
  },
  "language_info": {
   "codemirror_mode": {
    "name": "ipython",
    "version": 3
   },
   "file_extension": ".py",
   "mimetype": "text/x-python",
   "name": "python",
   "nbconvert_exporter": "python",
   "pygments_lexer": "ipython3",
   "version": "3.7.4"
  }
 },
 "nbformat": 4,
 "nbformat_minor": 2
}
