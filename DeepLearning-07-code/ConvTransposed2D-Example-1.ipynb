{
 "cells": [
  {
   "cell_type": "markdown",
   "metadata": {},
   "source": [
    "## <font color='green'> <div align=\"center\">In the name of God </div></font>"
   ]
  },
  {
   "cell_type": "markdown",
   "metadata": {},
   "source": [
    "### <font color='red'> Author: Sayed Kamaledin Ghiasi-Shrirazi</font> <a href=\"http://profsite.um.ac.ir/~k.ghiasi\">(http://profsite.um.ac.ir/~k.ghiasi)</a> "
   ]
  },
  {
   "cell_type": "markdown",
   "metadata": {},
   "source": [
    "# Studying ConvTransposed2D-Example 1"
   ]
  },
  {
   "cell_type": "markdown",
   "metadata": {},
   "source": [
    "### importing general modules"
   ]
  },
  {
   "cell_type": "code",
   "execution_count": 1,
   "metadata": {},
   "outputs": [],
   "source": [
    "import numpy as np\n",
    "import scipy.io as sio\n",
    "import matplotlib as mpl\n",
    "import matplotlib.pyplot as plt"
   ]
  },
  {
   "cell_type": "markdown",
   "metadata": {},
   "source": [
    "### importing PyTorch modules"
   ]
  },
  {
   "cell_type": "code",
   "execution_count": 2,
   "metadata": {},
   "outputs": [],
   "source": [
    "import torch\n",
    "import torch.nn as nn\n",
    "import torch.optim as optim"
   ]
  },
  {
   "cell_type": "markdown",
   "metadata": {},
   "source": [
    "## Defining the network by inheriting from nn.Module"
   ]
  },
  {
   "cell_type": "code",
   "execution_count": 3,
   "metadata": {},
   "outputs": [],
   "source": [
    "layer  = nn.ConvTranspose2d(in_channels=1,\n",
    "                                        out_channels=1,\n",
    "                                        kernel_size=3,\n",
    "                                        stride=1,\n",
    "                                        padding=0,\n",
    "                                        output_padding=0,\n",
    "                                        groups=1,\n",
    "                                        bias=True,\n",
    "                                        dilation=1)"
   ]
  },
  {
   "cell_type": "code",
   "execution_count": 4,
   "metadata": {},
   "outputs": [],
   "source": [
    "layer.bias[0] = 0\n",
    "layer.weight[0,0,0,0] = 1\n",
    "layer.weight[0,0,0,1] = 2\n",
    "layer.weight[0,0,0,2] = 3\n",
    "\n",
    "layer.weight[0,0,1,0] = 4\n",
    "layer.weight[0,0,1,1] = 5\n",
    "layer.weight[0,0,1,2] = 6\n",
    "\n",
    "layer.weight[0,0,2,0] = 7\n",
    "layer.weight[0,0,2,1] = 8\n",
    "layer.weight[0,0,2,2] = 9"
   ]
  },
  {
   "cell_type": "code",
   "execution_count": 5,
   "metadata": {},
   "outputs": [
    {
     "data": {
      "text/plain": [
       "Parameter containing:\n",
       "tensor([[[[1., 2., 3.],\n",
       "          [4., 5., 6.],\n",
       "          [7., 8., 9.]]]], grad_fn=<CopySlices>)"
      ]
     },
     "execution_count": 5,
     "metadata": {},
     "output_type": "execute_result"
    }
   ],
   "source": [
    "layer.weight"
   ]
  },
  {
   "cell_type": "code",
   "execution_count": 6,
   "metadata": {},
   "outputs": [
    {
     "name": "stdout",
     "output_type": "stream",
     "text": [
      "tensor([[[[1., 2., 3.],\n",
      "          [4., 5., 6.],\n",
      "          [7., 8., 9.]]]], grad_fn=<SlowConvTranspose2DBackward>)\n"
     ]
    }
   ],
   "source": [
    "H = 1\n",
    "W = 1\n",
    "X = np.zeros([1,1,H,W])\n",
    "X[0,0,0,0] = 1\n",
    "X = torch.tensor (X, dtype=torch.float)\n",
    "Y = layer(X)\n",
    "print (Y)"
   ]
  },
  {
   "cell_type": "code",
   "execution_count": 9,
   "metadata": {},
   "outputs": [
    {
     "name": "stdout",
     "output_type": "stream",
     "text": [
      "tensor([[[[ 1.,  4.,  7.,  6.],\n",
      "          [ 6., 18., 24., 15.],\n",
      "          [15., 36., 42., 24.],\n",
      "          [14., 23., 26.,  9.]]]], grad_fn=<SlowConvTranspose2DBackward>)\n"
     ]
    }
   ],
   "source": [
    "H = 2\n",
    "W = 2\n",
    "X = np.zeros([1,1,H,W])\n",
    "X[0,0,0,0] = 1\n",
    "X[0,0,0,1] = 2\n",
    "\n",
    "X[0,0,1,0] = 2\n",
    "X[0,0,1,1] = 1\n",
    "\n",
    "X = torch.tensor (X, dtype=torch.float)\n",
    "Y = layer(X)\n",
    "print (Y)"
   ]
  },
  {
   "cell_type": "code",
   "execution_count": null,
   "metadata": {},
   "outputs": [],
   "source": []
  }
 ],
 "metadata": {
  "kernelspec": {
   "display_name": "Python 3",
   "language": "python",
   "name": "python3"
  },
  "language_info": {
   "codemirror_mode": {
    "name": "ipython",
    "version": 3
   },
   "file_extension": ".py",
   "mimetype": "text/x-python",
   "name": "python",
   "nbconvert_exporter": "python",
   "pygments_lexer": "ipython3",
   "version": "3.7.5"
  }
 },
 "nbformat": 4,
 "nbformat_minor": 2
}
